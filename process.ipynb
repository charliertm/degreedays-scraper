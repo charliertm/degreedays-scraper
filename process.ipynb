{
 "cells": [
  {
   "cell_type": "code",
   "execution_count": 16,
   "metadata": {},
   "outputs": [],
   "source": [
    "import pandas as pd\n",
    "import numpy as np\n",
    "from datetime import date\n",
    "import os"
   ]
  },
  {
   "cell_type": "code",
   "execution_count": 17,
   "metadata": {},
   "outputs": [],
   "source": [
    "def preprocess(df):\n",
    "    df['date'] = df['Date'].apply(lambda x: date.fromisoformat(x))\n",
    "    df['hdd_15.5'] = df['HDD 15.5']\n",
    "    # if this column does not exist it means there are no issues with accuracy i.e. none estimated\n",
    "    if '% Estimated' in df.columns:\n",
    "        df['percent_estimated'] = df['% Estimated']\n",
    "        df = df.drop(['% Estimated'], axis=1)\n",
    "    else:\n",
    "        df['percent_estimated'] = 0\n",
    "    df = df.drop(['HDD 15.5', 'Date'], axis=1)\n",
    "    return df"
   ]
  },
  {
   "cell_type": "code",
   "execution_count": 18,
   "metadata": {},
   "outputs": [],
   "source": [
    "def from_icao_code(df, code):\n",
    "    return df[df.apply(lambda x: x['icao'] == code, axis=1)]"
   ]
  },
  {
   "cell_type": "code",
   "execution_count": 19,
   "metadata": {},
   "outputs": [],
   "source": [
    "def make_df(df_icao, output_dirname: str = 'output'):\n",
    "    dfs = []\n",
    "    filenames = [fn for fn in os.listdir(f\"./{output_dirname}\") if fn.endswith('.csv')]\n",
    "    for filename in filenames:\n",
    "        filepath = f'./{output_dirname}/' + filename\n",
    "        df = pd.read_csv(filepath, skiprows=range(6))\n",
    "        df = preprocess(df)\n",
    "        icao_code = filename.split('_')[0]\n",
    "        country_row = from_icao_code(df_icao, icao_code)\n",
    "        df = df.apply(lambda x: pd.concat([x, country_row.squeeze(axis=0)]), axis=1)\n",
    "        dfs.append(df)\n",
    "    return pd.concat(dfs, ignore_index=True)"
   ]
  },
  {
   "cell_type": "code",
   "execution_count": 20,
   "metadata": {},
   "outputs": [],
   "source": [
    "df_countries = pd.read_csv('icao-with-country-names.csv')"
   ]
  },
  {
   "cell_type": "code",
   "execution_count": 21,
   "metadata": {},
   "outputs": [],
   "source": [
    "df = make_df(df_countries)"
   ]
  },
  {
   "cell_type": "code",
   "execution_count": 22,
   "metadata": {},
   "outputs": [],
   "source": [
    "df.to_csv('degreedays.csv', index=False)"
   ]
  }
 ],
 "metadata": {
  "kernelspec": {
   "display_name": "Python 3.10.2 ('venv': venv)",
   "language": "python",
   "name": "python3"
  },
  "language_info": {
   "codemirror_mode": {
    "name": "ipython",
    "version": 3
   },
   "file_extension": ".py",
   "mimetype": "text/x-python",
   "name": "python",
   "nbconvert_exporter": "python",
   "pygments_lexer": "ipython3",
   "version": "3.10.2"
  },
  "orig_nbformat": 4,
  "vscode": {
   "interpreter": {
    "hash": "7cfdc34b4d52ba6370af453f79718f41906b5f3c31500f050e01c3bf2ab1b267"
   }
  }
 },
 "nbformat": 4,
 "nbformat_minor": 2
}
