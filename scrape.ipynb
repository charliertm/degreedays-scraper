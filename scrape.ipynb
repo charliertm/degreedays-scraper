{
 "cells": [
  {
   "cell_type": "code",
   "execution_count": 1,
   "metadata": {},
   "outputs": [],
   "source": [
    "from selenium import webdriver\n",
    "from selenium.webdriver.common.by import By\n",
    "from selenium.webdriver.support.ui import Select\n",
    "from selenium.webdriver.support.ui import WebDriverWait\n",
    "from selenium.webdriver.support import expected_conditions as EC\n",
    "from concurrent.futures import ThreadPoolExecutor\n",
    "from time import sleep\n",
    "import pandas as pd\n",
    "import os"
   ]
  },
  {
   "cell_type": "code",
   "execution_count": null,
   "metadata": {},
   "outputs": [],
   "source": [
    "import chromedriver_autoinstaller\n",
    "chromedriver_autoinstaller.install()"
   ]
  },
  {
   "cell_type": "code",
   "execution_count": 2,
   "metadata": {},
   "outputs": [],
   "source": [
    "def init_download(driver, icao_code: str):\n",
    "    driver.get(\"https://www.degreedays.net/\")\n",
    "    input_elem = driver.find_element(By.CSS_SELECTOR, '#formSlot > div > table:nth-child(3) > tbody > tr > td:nth-child(2) > table > tbody > tr > td:nth-child(1) > input')\n",
    "    input_elem.send_keys(icao_code)\n",
    "    sleep(2)\n",
    "    # options\n",
    "    select_element = Select(driver.find_element(By.CSS_SELECTOR, '#formSlot > div > table:nth-child(5) > tbody > tr:nth-child(2) > td > div > div:nth-child(1) > table > tbody > tr:nth-child(2) > td > div > div > table > tbody > tr:nth-child(2) > td > table > tbody > tr:nth-child(3) > td:nth-child(2) > select'))\n",
    "    select_element.select_by_visible_text(\"Last 36 months\")\n",
    "    sleep(2)\n",
    "    button_elem = driver.find_element(By.CSS_SELECTOR, '#formSlot > div > table:nth-child(5) > tbody > tr:nth-child(3) > td:nth-child(2) > button')\n",
    "    button_elem.click()\n",
    "    sleep(2)\n",
    "    error_elem = driver.find_elements(By.CSS_SELECTOR, '#dataStatusWrapper > div > table > tbody > tr > td > table > tbody > tr > td:nth-child(2) > div')\n",
    "    if error_elem:\n",
    "        print(f'{icao_code} not found')\n",
    "        driver.quit()\n",
    "        return\n",
    "    sleep(5)\n",
    "    WebDriverWait(driver,20).until(EC.element_to_be_clickable((By.CSS_SELECTOR, '#dataStatusWrapper > div > table > tbody > tr > td > table > tbody > tr > td:nth-child(3) > div > button'))).click()\n",
    "    sleep(5)\n",
    "    print(f'{icao_code} downloaded')\n",
    "    driver.quit()"
   ]
  },
  {
   "cell_type": "code",
   "execution_count": 3,
   "metadata": {},
   "outputs": [],
   "source": [
    "def scrape(icao_code):\n",
    "    options = webdriver.ChromeOptions()\n",
    "    options.add_experimental_option(\"prefs\", {\n",
    "    \"download.default_directory\": os.path.abspath('./output')\n",
    "    })\n",
    "    options.add_argument(\"--headless\")\n",
    "\n",
    "    driver = webdriver.Chrome(executable_path='chromedriver',\n",
    "                                options=options) \n",
    "\n",
    "    init_download(driver, icao_code)\n",
    "\n",
    "def set_up_threads(icao_codes, cores):\n",
    "    with ThreadPoolExecutor(max_workers=cores) as executor:\n",
    "        return executor.map(scrape,    \n",
    "                            icao_codes,\n",
    "                            timeout = 60)"
   ]
  },
  {
   "cell_type": "code",
   "execution_count": null,
   "metadata": {},
   "outputs": [],
   "source": [
    "# run this cell to start scraping\n",
    "df = pd.read_csv('icao-with-country-names.csv')\n",
    "ICAO_CODES = list(df['icao'][df['icao'].notna()])\n",
    "set_up_threads(ICAO_CODES, 4)"
   ]
  }
 ],
 "metadata": {
  "kernelspec": {
   "display_name": "Python 3.10.2 ('venv': venv)",
   "language": "python",
   "name": "python3"
  },
  "language_info": {
   "codemirror_mode": {
    "name": "ipython",
    "version": 3
   },
   "file_extension": ".py",
   "mimetype": "text/x-python",
   "name": "python",
   "nbconvert_exporter": "python",
   "pygments_lexer": "ipython3",
   "version": "3.10.2"
  },
  "orig_nbformat": 4,
  "vscode": {
   "interpreter": {
    "hash": "7cfdc34b4d52ba6370af453f79718f41906b5f3c31500f050e01c3bf2ab1b267"
   }
  }
 },
 "nbformat": 4,
 "nbformat_minor": 2
}
